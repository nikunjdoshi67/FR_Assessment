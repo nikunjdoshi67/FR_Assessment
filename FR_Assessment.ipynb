{
  "nbformat": 4,
  "nbformat_minor": 0,
  "metadata": {
    "colab": {
      "name": "FR_Assessment.ipynb",
      "provenance": [],
      "collapsed_sections": [],
      "toc_visible": true
    },
    "kernelspec": {
      "name": "python3",
      "display_name": "Python 3"
    },
    "language_info": {
      "name": "python"
    }
  },
  "cells": [
    {
      "cell_type": "markdown",
      "metadata": {
        "id": "BD4g1ZBwNI1Z"
      },
      "source": [
        "# FR Assessment\n",
        "I have created this ipynb file which can be used as a Google colab notebook to deploy an ec2 instance on cloud.\n",
        "\n",
        "This notebook performs below steps\n",
        "1. Run your program\n",
        "2. Deploy the virtual machine\n",
        "3. SSH into the instance as user1 and user2\n",
        "4. Read from and write to each of two volumes\n",
        "\n",
        "We have used AWS programmatic access for connecting with AWS and used libraries such as boto3, parimiko for ssh onto the environment"
      ]
    },
    {
      "cell_type": "code",
      "metadata": {
        "colab": {
          "base_uri": "https://localhost:8080/"
        },
        "id": "kaU2eyjdW9zV",
        "outputId": "72ba0a93-632f-4163-f0a1-3de89e3e03cc"
      },
      "source": [
        "# If deploying using Google Colan below code will be used, else comment this code. And deploy using python script\n",
        "from google.colab import drive\n",
        "drive.mount('/content/drive/')"
      ],
      "execution_count": 15,
      "outputs": [
        {
          "output_type": "stream",
          "text": [
            "Drive already mounted at /content/drive/; to attempt to forcibly remount, call drive.mount(\"/content/drive/\", force_remount=True).\n"
          ],
          "name": "stdout"
        }
      ]
    },
    {
      "cell_type": "code",
      "metadata": {
        "id": "eLtP_vc0Yb3V"
      },
      "source": [
        "#Set your project path \n",
        "project_path = '/content/drive/My Drive/FR_Assessment/'"
      ],
      "execution_count": 16,
      "outputs": []
    },
    {
      "cell_type": "code",
      "metadata": {
        "colab": {
          "base_uri": "https://localhost:8080/"
        },
        "id": "nGVYZJxUZA0a",
        "outputId": "c43969b1-449d-4049-87fe-94b7d3a1df9e"
      },
      "source": [
        "pip install awscli boto3 ##Used to connect with awscli using boto3\n"
      ],
      "execution_count": 2,
      "outputs": [
        {
          "output_type": "stream",
          "text": [
            "Collecting awscli\n",
            "\u001b[?25l  Downloading https://files.pythonhosted.org/packages/69/60/b865ce91eb8965746cc673bc35eac63fe51aed41a757401e1c8bbb6534c9/awscli-1.19.52-py2.py3-none-any.whl (3.6MB)\n",
            "\u001b[K     |████████████████████████████████| 3.6MB 12.6MB/s \n",
            "\u001b[?25hCollecting boto3\n",
            "\u001b[?25l  Downloading https://files.pythonhosted.org/packages/aa/98/e9459d65ad8ab27886bf9d86a537e6f65b5bdbc4c7de68ba45b524ef74a1/boto3-1.17.52-py2.py3-none-any.whl (131kB)\n",
            "\u001b[K     |████████████████████████████████| 133kB 61.5MB/s \n",
            "\u001b[?25hCollecting botocore==1.20.52\n",
            "\u001b[?25l  Downloading https://files.pythonhosted.org/packages/8f/f3/be57d6b74618db08bcc67be52da014c8d12132fedb1d12457c386b7be373/botocore-1.20.52-py2.py3-none-any.whl (7.4MB)\n",
            "\u001b[K     |████████████████████████████████| 7.4MB 39.8MB/s \n",
            "\u001b[?25hCollecting docutils<0.16,>=0.10\n",
            "\u001b[?25l  Downloading https://files.pythonhosted.org/packages/22/cd/a6aa959dca619918ccb55023b4cb151949c64d4d5d55b3f4ffd7eee0c6e8/docutils-0.15.2-py3-none-any.whl (547kB)\n",
            "\u001b[K     |████████████████████████████████| 552kB 29.6MB/s \n",
            "\u001b[?25hCollecting colorama<0.4.4,>=0.2.5\n",
            "  Downloading https://files.pythonhosted.org/packages/c9/dc/45cdef1b4d119eb96316b3117e6d5708a08029992b2fee2c143c7a0a5cc5/colorama-0.4.3-py2.py3-none-any.whl\n",
            "Requirement already satisfied: rsa<4.8,>=3.1.2; python_version > \"2.7\" in /usr/local/lib/python3.7/dist-packages (from awscli) (4.7.2)\n",
            "Requirement already satisfied: PyYAML<5.5,>=3.10 in /usr/local/lib/python3.7/dist-packages (from awscli) (3.13)\n",
            "Collecting s3transfer<0.4.0,>=0.3.0\n",
            "\u001b[?25l  Downloading https://files.pythonhosted.org/packages/00/89/0cb4e92c239e6425b9b0035227b8cdf9d3d098a5c9e95632c3815df63a09/s3transfer-0.3.7-py2.py3-none-any.whl (73kB)\n",
            "\u001b[K     |████████████████████████████████| 81kB 5.2MB/s \n",
            "\u001b[?25hCollecting jmespath<1.0.0,>=0.7.1\n",
            "  Downloading https://files.pythonhosted.org/packages/07/cb/5f001272b6faeb23c1c9e0acc04d48eaaf5c862c17709d20e3469c6e0139/jmespath-0.10.0-py2.py3-none-any.whl\n",
            "Collecting urllib3<1.27,>=1.25.4\n",
            "\u001b[?25l  Downloading https://files.pythonhosted.org/packages/09/c6/d3e3abe5b4f4f16cf0dfc9240ab7ce10c2baa0e268989a4e3ec19e90c84e/urllib3-1.26.4-py2.py3-none-any.whl (153kB)\n",
            "\u001b[K     |████████████████████████████████| 153kB 48.5MB/s \n",
            "\u001b[?25hRequirement already satisfied: python-dateutil<3.0.0,>=2.1 in /usr/local/lib/python3.7/dist-packages (from botocore==1.20.52->awscli) (2.8.1)\n",
            "Requirement already satisfied: pyasn1>=0.1.3 in /usr/local/lib/python3.7/dist-packages (from rsa<4.8,>=3.1.2; python_version > \"2.7\"->awscli) (0.4.8)\n",
            "Requirement already satisfied: six>=1.5 in /usr/local/lib/python3.7/dist-packages (from python-dateutil<3.0.0,>=2.1->botocore==1.20.52->awscli) (1.15.0)\n",
            "\u001b[31mERROR: requests 2.23.0 has requirement urllib3!=1.25.0,!=1.25.1,<1.26,>=1.21.1, but you'll have urllib3 1.26.4 which is incompatible.\u001b[0m\n",
            "\u001b[31mERROR: datascience 0.10.6 has requirement folium==0.2.1, but you'll have folium 0.8.3 which is incompatible.\u001b[0m\n",
            "Installing collected packages: urllib3, jmespath, botocore, docutils, colorama, s3transfer, awscli, boto3\n",
            "  Found existing installation: urllib3 1.24.3\n",
            "    Uninstalling urllib3-1.24.3:\n",
            "      Successfully uninstalled urllib3-1.24.3\n",
            "  Found existing installation: docutils 0.17\n",
            "    Uninstalling docutils-0.17:\n",
            "      Successfully uninstalled docutils-0.17\n",
            "Successfully installed awscli-1.19.52 boto3-1.17.52 botocore-1.20.52 colorama-0.4.3 docutils-0.15.2 jmespath-0.10.0 s3transfer-0.3.7 urllib3-1.26.4\n"
          ],
          "name": "stdout"
        }
      ]
    },
    {
      "cell_type": "code",
      "metadata": {
        "colab": {
          "base_uri": "https://localhost:8080/"
        },
        "id": "aC5FndTF9Ero",
        "outputId": "95f8dd94-460a-43a9-b5e6-dd580509e9b7"
      },
      "source": [
        "pip install paramiko ## ssh client for python to connect with ec2"
      ],
      "execution_count": 3,
      "outputs": [
        {
          "output_type": "stream",
          "text": [
            "Collecting paramiko\n",
            "\u001b[?25l  Downloading https://files.pythonhosted.org/packages/95/19/124e9287b43e6ff3ebb9cdea3e5e8e88475a873c05ccdf8b7e20d2c4201e/paramiko-2.7.2-py2.py3-none-any.whl (206kB)\n",
            "\u001b[K     |████████████████████████████████| 215kB 10.6MB/s \n",
            "\u001b[?25hCollecting cryptography>=2.5\n",
            "\u001b[?25l  Downloading https://files.pythonhosted.org/packages/b2/26/7af637e6a7e87258b963f1731c5982fb31cd507f0d90d91836e446955d02/cryptography-3.4.7-cp36-abi3-manylinux2014_x86_64.whl (3.2MB)\n",
            "\u001b[K     |████████████████████████████████| 3.2MB 18.0MB/s \n",
            "\u001b[?25hCollecting bcrypt>=3.1.3\n",
            "\u001b[?25l  Downloading https://files.pythonhosted.org/packages/26/70/6d218afbe4c73538053c1016dd631e8f25fffc10cd01f5c272d7acf3c03d/bcrypt-3.2.0-cp36-abi3-manylinux2010_x86_64.whl (63kB)\n",
            "\u001b[K     |████████████████████████████████| 71kB 5.1MB/s \n",
            "\u001b[?25hCollecting pynacl>=1.0.1\n",
            "\u001b[?25l  Downloading https://files.pythonhosted.org/packages/9d/57/2f5e6226a674b2bcb6db531e8b383079b678df5b10cdaa610d6cf20d77ba/PyNaCl-1.4.0-cp35-abi3-manylinux1_x86_64.whl (961kB)\n",
            "\u001b[K     |████████████████████████████████| 962kB 54.2MB/s \n",
            "\u001b[?25hRequirement already satisfied: cffi>=1.12 in /usr/local/lib/python3.7/dist-packages (from cryptography>=2.5->paramiko) (1.14.5)\n",
            "Requirement already satisfied: six>=1.4.1 in /usr/local/lib/python3.7/dist-packages (from bcrypt>=3.1.3->paramiko) (1.15.0)\n",
            "Requirement already satisfied: pycparser in /usr/local/lib/python3.7/dist-packages (from cffi>=1.12->cryptography>=2.5->paramiko) (2.20)\n",
            "Installing collected packages: cryptography, bcrypt, pynacl, paramiko\n",
            "Successfully installed bcrypt-3.2.0 cryptography-3.4.7 paramiko-2.7.2 pynacl-1.4.0\n"
          ],
          "name": "stdout"
        }
      ]
    },
    {
      "cell_type": "code",
      "metadata": {
        "id": "g8gsAo85ZUmI"
      },
      "source": [
        "import boto3\n",
        "\n",
        "## ACCESS_KEY and SECRET ACCESS_KEY for account where you need to deploy the code is to be added in below variables\n",
        "aws_access_key_id = 'ACCESS_KEY'\n",
        "aws_secret_access_key = 'SECRET_KEY'\n",
        "region_name = 'us-east-1'\n",
        "\n",
        "session = boto3.session.Session(aws_access_key_id=aws_access_key_id,\n",
        "                                aws_secret_access_key=aws_secret_access_key,\n",
        "                                region_name=region_name)\n",
        "\n",
        "ec2client = session.client('ec2')"
      ],
      "execution_count": 19,
      "outputs": []
    },
    {
      "cell_type": "code",
      "metadata": {
        "id": "7K2jA4Wlld00"
      },
      "source": [
        "# create an EBS volume, 10G size\n",
        "ebs_vol = ec2client.create_volume(\n",
        "        Size=10,\n",
        "        AvailabilityZone='us-east-1a',\n",
        "        VolumeType='gp2'\n",
        "\n",
        "    )\n",
        "\n",
        "volume_id = ebs_vol['VolumeId']\n",
        "\n",
        "# check that the EBS volume has been created successfully\n",
        "if ebs_vol['ResponseMetadata']['HTTPStatusCode'] == 200:\n",
        "  print (\"Successfully created Volume! \" + volume_id)"
      ],
      "execution_count": null,
      "outputs": []
    },
    {
      "cell_type": "code",
      "metadata": {
        "id": "h03oQwByfg5j"
      },
      "source": [
        "import boto3\n",
        "\n",
        "user_data = '''<script>\n",
        "#!/bin/bash\n",
        "echo 'test' > /tmp/hello\n",
        "</script>'''\n",
        "\n",
        "# create a new EC2 instance\n",
        "ec2_instance = ec2client.run_instances(\n",
        "     ImageId='ami-0742b4e673072066f', \n",
        "     MinCount=1,\n",
        "     MaxCount=1,\n",
        "     InstanceType='t2.micro',\n",
        "     KeyName='FRkeypair.pem',\n",
        "     Placement={'AvailabilityZone': 'us-east-1a'},\n",
        "     UserData=user_data\n",
        " )\n",
        "\n",
        "# check if EC2 instance was created successfully\n",
        "if ec2_instance['ResponseMetadata']['HTTPStatusCode'] == 200:\n",
        "  print (\"Successfully created instance! \" + ec2_instance['Instances'][0]['InstanceId'])"
      ],
      "execution_count": null,
      "outputs": []
    },
    {
      "cell_type": "code",
      "metadata": {
        "id": "ycF8-zEaj0iD"
      },
      "source": [
        "# attaching EBS volume to our EC2 instance\n",
        "attach_resp = ec2client.attach_volume(\n",
        "  VolumeId=volume_id,\n",
        "  InstanceId=ec2_instance['Instances'][0]['InstanceId'],\n",
        "  Device='/dev/xvdb'\n",
        "    )"
      ],
      "execution_count": 24,
      "outputs": []
    },
    {
      "cell_type": "code",
      "metadata": {
        "id": "pjBdvgST9X1X"
      },
      "source": [
        "def ssh_connect_with_retry(ssh, ip_address, retries):\n",
        "    if retries > 3:\n",
        "        return False\n",
        "    privkey = paramiko.RSAKey.from_private_key_file(\n",
        "        'FRkeypair.pem')\n",
        "    interval = 5\n",
        "    try:\n",
        "        retries += 1\n",
        "        print('SSH into the instance: {}'.format(ip_address))\n",
        "        ssh.connect(hostname=ip_address,\n",
        "                    username='ubuntu', pkey=privkey)\n",
        "        return True\n",
        "    except Exception as e:\n",
        "        print(e)\n",
        "        time.sleep(interval)\n",
        "        print('Retrying SSH connection to {}'.format(ip_address))\n",
        "        ssh_connect_with_retry(ssh, ip_address, retries)\n"
      ],
      "execution_count": 25,
      "outputs": []
    },
    {
      "cell_type": "code",
      "metadata": {
        "id": "GfSJK6kQ9h1_"
      },
      "source": [
        "import paramiko\n",
        "ssh = paramiko.SSHClient()\n",
        "ssh.set_missing_host_key_policy(paramiko.AutoAddPolicy())\n",
        "## ssh onto ec2 instance\n",
        "ip_address =  ec2_instance.get['PublicIpAddress']\n",
        "ssh_connect_with_retry(ssh, ip_address, 0)\n",
        "\n",
        "stdin, stdout, stderr = ssh.exec_command(commands)\n",
        "print('stdout:', stdout.read())\n",
        "print('stderr:', stderr.read())"
      ],
      "execution_count": null,
      "outputs": []
    }
  ]
}